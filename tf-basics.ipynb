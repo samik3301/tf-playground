{
 "cells": [
  {
   "cell_type": "markdown",
   "metadata": {},
   "source": [
    "Typical Flow of a network:\n",
    "\n",
    "Inputs -> Numerical Encoding -> Learns Representation (patterns/features/weights) -> Representation outputs -> Human understandable outputs\n",
    "\n",
    "(the data input will be unstructured data : images, textual, sound, signal etc.)"
   ]
  },
  {
   "cell_type": "markdown",
   "metadata": {},
   "source": [
    "Anatomy of neural networks:\n",
    "\n",
    "Input Layer -> Hidden Layer(s) -> Output Layer\n",
    "\n",
    "Input layer : data goes in here\n",
    "Hidden layer(s) : learns the representations/patterns in the data\n",
    "Output layer : outputs the learned representation or prediction probabilities"
   ]
  },
  {
   "cell_type": "markdown",
   "metadata": {},
   "source": [
    "Types of learning:\n",
    "\n",
    "1. Supervised learning\n",
    "2. Semi supervised learning \n",
    "3. Unsupervised learning\n",
    "4. Transfer learning"
   ]
  },
  {
   "cell_type": "markdown",
   "metadata": {},
   "source": [
    "Tensorflow ? \n",
    "\n",
    "-End to end platform for ML\n",
    "-Able to access many pre built deep learning models [transfer learning usecase -> TensorFlow Hub]\n",
    "-Whole stack : preprocess data, model data, deploy model in your application\n",
    "-Originally designed and used by Google [open source now]"
   ]
  },
  {
   "cell_type": "markdown",
   "metadata": {},
   "source": [
    "Milestones: \n",
    "\n",
    "1. TensorFlow basics and fundamentals\n",
    "2. Preprocessing data [making it into tensors]\n",
    "3. Building and using pretrained deep learning models\n",
    "4. Fitting a model to the data (learning patterns)\n",
    "5. Making predictions with a model (using patterns)\n",
    "6. Evaluating model predictions\n",
    "7. Saving and loading models\n",
    "8. Using a trained model to make predictions on custom data"
   ]
  },
  {
   "cell_type": "markdown",
   "metadata": {},
   "source": [
    "# Fundamentals Covers:\n",
    "- Introduction to tensors\n",
    "- Getting information from tensors\n",
    "- Manipulating tensors\n",
    "- Tensors and Numpy\n",
    "- Using @tf.function (a way to speed up regular python functions)\n",
    "- Using GPUs with TensorFlow\n",
    "- Exercise"
   ]
  },
  {
   "cell_type": "code",
   "execution_count": null,
   "metadata": {},
   "outputs": [],
   "source": []
  }
 ],
 "metadata": {
  "language_info": {
   "name": "python"
  },
  "orig_nbformat": 4
 },
 "nbformat": 4,
 "nbformat_minor": 2
}
